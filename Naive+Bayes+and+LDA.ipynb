{
 "cells": [
  {
   "cell_type": "code",
   "execution_count": 13,
   "metadata": {
    "collapsed": true
   },
   "outputs": [],
   "source": [
    "#Importing the Libraries\n",
    "\n",
    "import pandas as pd\n",
    "import numpy as np\n",
    "from pandas.plotting import scatter_matrix\n",
    "import matplotlib.pyplot as plt\n",
    "from sklearn import model_selection\n",
    "from sklearn.metrics import classification_report\n",
    "from sklearn.metrics import confusion_matrix\n",
    "from sklearn.metrics import accuracy_score\n",
    "from sklearn.discriminant_analysis import LinearDiscriminantAnalysis\n",
    "from sklearn.naive_bayes import GaussianNB\n",
    "from sklearn import datasets"
   ]
  },
  {
   "cell_type": "code",
   "execution_count": 14,
   "metadata": {},
   "outputs": [
    {
     "data": {
      "text/plain": [
       "(150, 5)"
      ]
     },
     "execution_count": 14,
     "metadata": {},
     "output_type": "execute_result"
    }
   ],
   "source": [
    "# Loading the dataset\n",
    "dataset = pd.read_csv(\"C:/Users/Setia Comp/Documents/MAchine Learning/Assignment 1/Iris.csv\");\n",
    "dataset.head(5)\n",
    "dataset.shape"
   ]
  },
  {
   "cell_type": "code",
   "execution_count": 15,
   "metadata": {},
   "outputs": [
    {
     "data": {
      "image/png": "[encoded data removed]",
      "text/plain": [
       "<matplotlib.figure.Figure at 0xeded426470>"
      ]
     },
     "metadata": {},
     "output_type": "display_data"
    }
   ],
   "source": [
    "dataset.hist()\n",
    "plt.show()"
   ]
  },
  {
   "cell_type": "code",
   "execution_count": 24,
   "metadata": {
    "collapsed": true
   },
   "outputs": [],
   "source": [
    "# Splitting the dataset into the Training set and Test set and converting into array.\n",
    "array=dataset.values\n",
    "array\n",
    "x = array[:,0:4]\n",
    "Y = array[:,4]\n",
    "validation_size=0.30\n",
    "seed=11\n",
    "X_train, X_tst, Y_train, Y_tst= model_selection.train_test_split(x, Y, test_size=validation_size, random_state=seed)"
   ]
  },
  {
   "cell_type": "code",
   "execution_count": 29,
   "metadata": {},
   "outputs": [
    {
     "name": "stdout",
     "output_type": "stream",
     "text": [
      "LDA: 0.980909 (0.038236)\n",
      "NB: 0.961818 (0.046851)\n"
     ]
    }
   ],
   "source": [
    "# Building models\n",
    "seed = 11\n",
    "scoring = 'accuracy'\n",
    "models = []\n",
    "models.append(('LDA', LinearDiscriminantAnalysis()))\n",
    "models.append(('NB', GaussianNB()))\n",
    "# evaluate each model in turn\n",
    "results = []\n",
    "names = []\n",
    "for name, model in models:\n",
    "    kfold = model_selection.KFold(n_splits=10, random_state=seed)\n",
    "    cv_results = model_selection.cross_val_score(model, X_train, Y_train, cv=kfold, scoring=scoring)\n",
    "    results.append(cv_results)\n",
    "    names.append(name)\n",
    "    msg = \"%s: %f (%f)\" % (name, cv_results.mean(), cv_results.std())\n",
    "    print(msg)"
   ]
  },
  {
   "cell_type": "code",
   "execution_count": 30,
   "metadata": {},
   "outputs": [
    {
     "name": "stdout",
     "output_type": "stream",
     "text": [
      "0.866666666667\n",
      "[[14  0  0]\n",
      " [ 0 10  4]\n",
      " [ 0  2 15]]\n",
      "                 precision    recall  f1-score   support\n",
      "\n",
      "    Iris-setosa       1.00      1.00      1.00        14\n",
      "Iris-versicolor       0.83      0.71      0.77        14\n",
      " Iris-virginica       0.79      0.88      0.83        17\n",
      "\n",
      "    avg / total       0.87      0.87      0.87        45\n",
      "\n",
      "0.955555555556\n",
      "[[14  0  0]\n",
      " [ 0 13  1]\n",
      " [ 0  1 16]]\n",
      "                 precision    recall  f1-score   support\n",
      "\n",
      "    Iris-setosa       1.00      1.00      1.00        14\n",
      "Iris-versicolor       0.93      0.93      0.93        14\n",
      " Iris-virginica       0.94      0.94      0.94        17\n",
      "\n",
      "    avg / total       0.96      0.96      0.96        45\n",
      "\n"
     ]
    }
   ],
   "source": [
    "# Making Test data predictions\n",
    "NB = GaussianNB()\n",
    "NB.fit(X_train, Y_train)\n",
    "predict = NB.predict(X_tst)\n",
    "print(accuracy_score(Y_tst, predict))\n",
    "print(confusion_matrix(Y_tst, predict))\n",
    "print(classification_report(Y_tst, predict))\n",
    "\n",
    "#LDA\n",
    "LDA = LinearDiscriminantAnalysis()\n",
    "LDA.fit(X_train, Y_train)\n",
    "predict1 = LDA.predict(X_tst)\n",
    "print(accuracy_score(Y_tst, predict1))\n",
    "print(confusion_matrix(Y_tst, predict1))\n",
    "print(classification_report(Y_tst, predict1))"
   ]
  },
  {
   "cell_type": "code",
   "execution_count": 31,
   "metadata": {},
   "outputs": [
    {
     "data": {
      "image/png": "[encoded data removed]",
      "text/plain": [
       "<matplotlib.figure.Figure at 0xedee4d2780>"
      ]
     },
     "metadata": {},
     "output_type": "display_data"
    }
   ],
   "source": [
    "# Visualising the test result with Naive Bayes\n",
    "from sklearn.metrics import confusion_matrix\n",
    "import seaborn as sns\n",
    "import matplotlib.pyplot as plt\n",
    "mat = confusion_matrix(Y_tst, predict)\n",
    "sns.heatmap(mat.T, square=True, annot=True, fmt='d', cbar=True, cmap=\"YlGnBu\",vmin=3,vmax=8)\n",
    "plt.xlabel('true label- Naive Bayes')\n",
    "plt.ylabel('predicted label- Naive Bayes')\n",
    "plt.show()"
   ]
  },
  {
   "cell_type": "code",
   "execution_count": 32,
   "metadata": {},
   "outputs": [
    {
     "data": {
      "image/png": "[encoded data removed]",
      "text/plain": [
       "<matplotlib.figure.Figure at 0xedee5f3470>"
      ]
     },
     "metadata": {},
     "output_type": "display_data"
    }
   ],
   "source": [
    "# Visualising the test result with LDA\n",
    "\n",
    "from sklearn.metrics import confusion_matrix\n",
    "import seaborn as sns\n",
    "import matplotlib.pyplot as plt\n",
    "mat = confusion_matrix(Y_tst, predict)\n",
    "sns.heatmap(mat.T, square=True, annot=True, fmt='d', cbar=True, cmap=\"YlGnBu\",vmin=3,vmax=8)\n",
    "plt.xlabel('true label- LDA')\n",
    "plt.ylabel('predicted label- LDA')\n",
    "plt.show()"
   ]
  },
  {
   "cell_type": "code",
   "execution_count": null,
   "metadata": {
    "collapsed": true
   },
   "outputs": [],
   "source": [
    "# As we can see from the above graph that model accuracy of LDA is greater the NB."
   ]
  }
 ],
 "metadata": {
  "kernelspec": {
   "display_name": "Python 3",
   "language": "python",
   "name": "python3"
  },
  "language_info": {
   "codemirror_mode": {
    "name": "ipython",
    "version": 3
   },
   "file_extension": ".py",
   "mimetype": "text/x-python",
   "name": "python",
   "nbconvert_exporter": "python",
   "pygments_lexer": "ipython3",
   "version": "3.6.3"
  }
 },
 "nbformat": 4,
 "nbformat_minor": 2
}
